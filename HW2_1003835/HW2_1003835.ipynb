{
 "cells": [
  {
   "cell_type": "markdown",
   "metadata": {},
   "source": [
    "Yeo Ying Xuan\n",
    "\n",
    "1003835\n",
    "\n",
    "50.007 Machine Learning\n",
    "Homework 2"
   ]
  },
  {
   "cell_type": "code",
   "execution_count": 1,
   "metadata": {},
   "outputs": [],
   "source": [
    "from libsvm import svmutil\n",
    "from svmutil import *"
   ]
  },
  {
   "cell_type": "code",
   "execution_count": 2,
   "metadata": {},
   "outputs": [],
   "source": [
    "# read data\n",
    "Y_train, X_train = svm_read_problem('sonar/training.txt')\n",
    "Y_test, X_test = svm_read_problem('sonar/test.txt')"
   ]
  },
  {
   "cell_type": "markdown",
   "metadata": {},
   "source": [
    "## Linear Kernel\n",
    "\n",
    "`t = 0` -- linear: u'*v\n"
   ]
  },
  {
   "cell_type": "code",
   "execution_count": 3,
   "metadata": {},
   "outputs": [
    {
     "name": "stdout",
     "output_type": "stream",
     "text": [
      "Accuracy = 74.6032% (47/63) (classification)\n",
      "(74.60317460317461, 1.0158730158730158, 0.23896827388715855)\n"
     ]
    }
   ],
   "source": [
    "# Usage: svm-train [options] training_set_file [model_file]\n",
    "m = svm_train(Y_train, X_train, '-t 0')\n",
    "p_label, p_acc, p_val = svm_predict(Y_test, X_test, m)\n",
    "print(p_acc)\n"
   ]
  },
  {
   "cell_type": "markdown",
   "metadata": {},
   "source": [
    "## Polynomial Kernel\n",
    "`t = 1` -- polynomial: (gamma*u'*v + coef0)^degree"
   ]
  },
  {
   "cell_type": "code",
   "execution_count": 4,
   "metadata": {},
   "outputs": [
    {
     "name": "stdout",
     "output_type": "stream",
     "text": [
      "Accuracy = 53.9683% (34/63) (classification)\n",
      "(53.96825396825397, 1.8412698412698412, nan)\n"
     ]
    }
   ],
   "source": [
    "# Usage: svm-train [options] training_set_file [model_file]\n",
    "m = svm_train(Y_train, X_train, '-t 1')\n",
    "p_label, p_acc, p_val = svm_predict(Y_test, X_test, m)\n",
    "print(p_acc)\n"
   ]
  },
  {
   "cell_type": "markdown",
   "metadata": {},
   "source": [
    "## Radial Basis Function (RBF) Kernel\n",
    "`t = 2` -- radial basis function: exp(-gamma*|u-v|^2)"
   ]
  },
  {
   "cell_type": "code",
   "execution_count": 5,
   "metadata": {},
   "outputs": [
    {
     "name": "stdout",
     "output_type": "stream",
     "text": [
      "Accuracy = 84.127% (53/63) (classification)\n",
      "(84.12698412698413, 0.6349206349206349, 0.474398095070112)\n"
     ]
    }
   ],
   "source": [
    "# Usage: svm-train [options] training_set_file [model_file]\n",
    "m = svm_train(Y_train, X_train, '-t 2')\n",
    "p_label, p_acc, p_val = svm_predict(Y_test, X_test, m)\n",
    "print(p_acc)\n"
   ]
  },
  {
   "cell_type": "markdown",
   "metadata": {},
   "source": [
    "## Sigmoid Kernel\n",
    "`t = 3` -- sigmoid: tanh(gamma*u'*v + coef0)"
   ]
  },
  {
   "cell_type": "code",
   "execution_count": 6,
   "metadata": {},
   "outputs": [
    {
     "name": "stdout",
     "output_type": "stream",
     "text": [
      "Accuracy = 79.3651% (50/63) (classification)\n",
      "(79.36507936507937, 0.8253968253968254, 0.3513501661846786)\n"
     ]
    }
   ],
   "source": [
    "# Usage: svm-train [options] training_set_file [model_file]\n",
    "m = svm_train(Y_train, X_train, '-t 3')\n",
    "p_label, p_acc, p_val = svm_predict(Y_test, X_test, m)\n",
    "print(p_acc)\n"
   ]
  },
  {
   "cell_type": "markdown",
   "metadata": {},
   "source": [
    "**Which kernel would you choose and why?**"
   ]
  },
  {
   "cell_type": "markdown",
   "metadata": {},
   "source": [
    "Radial Basis Function (RBS) Kernel is chosen as it has the highest accuracy among the four different kernels tested on."
   ]
  }
 ],
 "metadata": {
  "kernelspec": {
   "display_name": "Python 3",
   "language": "python",
   "name": "python3"
  },
  "language_info": {
   "codemirror_mode": {
    "name": "ipython",
    "version": 3
   },
   "file_extension": ".py",
   "mimetype": "text/x-python",
   "name": "python",
   "nbconvert_exporter": "python",
   "pygments_lexer": "ipython3",
   "version": "3.8.3"
  }
 },
 "nbformat": 4,
 "nbformat_minor": 4
}
